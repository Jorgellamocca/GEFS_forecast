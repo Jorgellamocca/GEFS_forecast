import xarray as xr
import pandas as pd
import matplotlib.pyplot as plt

# Coordenadas de Lima
lat_lima = -12.046
lon_lima = -77.042

# Abrir metadatos para detectar el último init_time
ds_meta = xr.open_zarr("https://data.dynamical.org/noaa/gefs/forecast-35-day/latest.zarr", consolidated=True)
latest_init = ds_meta.init_time.max().values

# Cargar solo la variable de temperatura mínima
ds = xr.open_zarr("https://data.dynamical.org/noaa/gefs/forecast-35-day/latest.zarr", consolidated=True)
ds = ds["minimum_temperature_2m"]

# Seleccionar coordenada y init_time más reciente (sin promediar el ensamble)
ds_sel = ds.sel(init_time=latest_init, latitude=lat_lima, longitude=lon_lima, method="nearest")

# Agregar coordenada forecast_time
forecast_time = ds_sel.init_time + ds_sel.lead_time
ds_sel = ds_sel.assign_coords(forecast_time=forecast_time).swap_dims({"lead_time": "forecast_time"})

# Agrupar por día para cada miembro
tmin_daily = ds_sel.groupby("forecast_time.date").mean("forecast_time")
dates = pd.to_datetime(tmin_daily.date.values)

# Crear gráfico
plt.figure(figsize=(20, 6))
for member in ds_sel.ensemble_member.values:
    member_data = ds_sel.sel(ensemble_member=member)
    member_daily = member_data.groupby("forecast_time.date").mean("forecast_time")
    plt.plot(dates, member_daily, alpha=0.4, label=f"Miembro {member}")

# Formato
plt.title("Temperatura mínima diaria - Todos los miembros del ensamble (GEFS) - Lima")
plt.xlabel("Fecha")
plt.ylabel("Temperatura mínima (°C)")
plt.grid(True)
plt.tight_layout()
plt.legend(ncol=5, fontsize="small", loc='upper right')
plt.show()

